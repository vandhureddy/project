{
 "cells": [
  {
   "cell_type": "code",
   "execution_count": 4,
   "id": "408a96a9",
   "metadata": {},
   "outputs": [
    {
     "name": "stdout",
     "output_type": "stream",
     "text": [
      "(603, 7) (1556, 7)\n"
     ]
    },
    {
     "name": "stderr",
     "output_type": "stream",
     "text": [
      "C:\\Users\\VANDHANA\\AppData\\Local\\Temp/ipykernel_9000/1200821941.py:14: SettingWithCopyWarning: \n",
      "A value is trying to be set on a copy of a slice from a DataFrame.\n",
      "Try using .loc[row_indexer,col_indexer] = value instead\n",
      "\n",
      "See the caveats in the documentation: https://pandas.pydata.org/pandas-docs/stable/user_guide/indexing.html#returning-a-view-versus-a-copy\n",
      "  topc[i] = topc[i] / topc[i].abs().max()\n"
     ]
    }
   ],
   "source": [
    "import pandas as pd\n",
    "import numpy as np\n",
    "sp = pd.read_csv(r\"C:\\Users\\VANDHANA\\Desktop\\project\\spotify_dataset.csv\")\n",
    "top = pd.read_excel(r\"C:\\Users\\VANDHANA\\Desktop\\project\\top10.xlsx\")\n",
    "top.dropna(inplace = True)\n",
    "sp.dropna(inplace = True)\n",
    "spc = sp[['Danceability', 'Energy', 'Loudness', 'Speechiness', 'Acousticness','Liveness', 'Valence']]\n",
    "spc = spc.apply(pd.to_numeric,errors = 'coerce')\n",
    "spc = spc[['Danceability', 'Energy', 'Loudness', 'Speechiness', 'Acousticness','Liveness', 'Valence']].astype(float)\n",
    "topc = top[[ 'dnce', 'nrgy', 'dB','spch', 'acous', 'live', 'val']]\n",
    "sp.drop(['Danceability', 'Energy', 'Loudness', 'Speechiness', 'Acousticness','Liveness', 'Valence'],axis = 1,inplace = True)\n",
    "top.drop([ 'dnce', 'nrgy', 'dB','spch', 'acous', 'live', 'val'],axis = 1,inplace = True)\n",
    "for i in topc[[ 'dnce', 'nrgy','spch', 'acous', 'live', 'val']]:\n",
    "    topc[i] = topc[i] / topc[i].abs().max()\n",
    "sp['Song Name'] = sp['Song Name'].str.lower()\n",
    "top['title'] = top['title'].str.lower()\n",
    "sp['Artist'] = sp['Artist'].str.lower()\n",
    "top['artist'] = top['artist'].str.lower()\n",
    "top.fillna('0',inplace = True)\n",
    "print(topc.shape,spc.shape)"
   ]
  },
  {
   "cell_type": "code",
   "execution_count": 8,
   "id": "288599d1",
   "metadata": {},
   "outputs": [
    {
     "name": "stdout",
     "output_type": "stream",
     "text": [
      "This song recommender works for all popular english songs from 2010 to 2019\n",
      "Enter a song name you listen:gorgeous\n",
      "Your favourite artist:zyan\n",
      "Genre you like:hip hop\n"
     ]
    }
   ],
   "source": [
    "print(\"This song recommender works for all popular english songs from 2010 to 2019\")\n",
    "song = str(input(\"Enter a song name you listen:\"))\n",
    "artist = str(input(\"Your favourite artist:\"))\n",
    "genre = str(input(\"Genre you like:\"))\n",
    "genre = genre.lower()\n",
    "artist = artist.lower()\n",
    "song = song.lower()\n",
    "s = sp[sp['Artist'] == artist].sort_values(by = ['Streams'],ascending = False)\n",
    "if(len(s.index) < 3):\n",
    "    spp = s.head(len(s.index))\n",
    "else:\n",
    "    spp = s.head(3)\n",
    "s = sp[sp['Genre'].str.contains(genre)].sort_values(by = ['Streams'],ascending = False)\n",
    "if(len(s.index) < 3):\n",
    "    spp = spp.append(s.head(len(s.index)))\n",
    "else:\n",
    "    spp = spp.append(s.head(3))   \n",
    "s =  top[top['artist'] == artist]\n",
    "if(len(s.index) < 3):\n",
    "    topp = s.sample(len(s.index))\n",
    "else:\n",
    "    topp = s.sample(3)  \n",
    "s = top[top['top genre'].str.contains(genre)]\n",
    "if(len(s.index) < 3):\n",
    "    topp = topp.append(s.sample(len(s.index)))\n",
    "else:\n",
    "     topp = topp.append(s.sample(3))           \n",
    "spp = spp.sort_values(by=['Streams'],ascending = False)\n",
    "e = 0\n",
    "if((len(spp.index) == 0) or (len(topp.index) == 0)):\n",
    "    print(\"Give genre and artist as per the constraints!\")\n",
    "    e = 1"
   ]
  },
  {
   "cell_type": "code",
   "execution_count": 9,
   "id": "d7d7c5c6",
   "metadata": {},
   "outputs": [
    {
     "name": "stdout",
     "output_type": "stream",
     "text": [
      "[0.6206666666666666, 0.6919999999999998, -4.778333333333333, 0.25966666666666666, 0.2977666666666667, 0.26966666666666667, 0.6823333333333333] [0.7079037800687286, 0.7040816326530611, -6.666666666666667, 0.38888888888888884, 0.14814814814814817, 0.1981981981981982, 0.36054421768707484]\n"
     ]
    }
   ],
   "source": [
    "a = sp[sp['Song Name'] == (song)].index\n",
    "b = top[top['title'] == (song)].index\n",
    "spcp = []\n",
    "topcp = []\n",
    "if(len(a)):\n",
    "    spcp = list(spc.loc[a[0]])\n",
    "elif(e == 0): \n",
    "    spcp = spc.loc[spp.index]\n",
    "    spcp = list(spcp.mean())\n",
    "if(len(b)):\n",
    "    topcp = list(topc.loc[b[0]])\n",
    "elif(e == 0):    \n",
    "    topcp = topc.loc[topp.index]\n",
    "    topcp = list(topcp.mean())    \n",
    "if((len(spcp) == 0 or len(topcp) == 0) and (e == 1)):\n",
    "    print(\"Provide valid song name also!\")\n",
    "    exit()\n",
    "print(spcp,topcp)    "
   ]
  },
  {
   "cell_type": "code",
   "execution_count": 10,
   "id": "bd9ab190",
   "metadata": {},
   "outputs": [
    {
     "name": "stdout",
     "output_type": "stream",
     "text": [
      "songs you may like:\n",
      "time flies\n",
      "hot wind blows (feat. lil wayne)\n",
      "nicky jam: bzrp music sessions, vol. 41\n",
      "castle walls (feat. christina aguilera)\n",
      "lemon\n",
      "see you again (feat. charlie puth)\n",
      "11:00 pm\n",
      "don don\n",
      "say something\n",
      "make me... (feat. g-eazy)\n"
     ]
    }
   ],
   "source": [
    "import random\n",
    "def mink_dis(a,b,p = 1):\n",
    "    dim = len(a)\n",
    "    dis = 0\n",
    "    for d in range(dim):\n",
    "        dis += abs(a[d] - b[d])**p\n",
    "    dis = dis**(1/p)\n",
    "    return dis\n",
    "dist = []\n",
    "for i in spc.index:\n",
    "    dist.append(mink_dis(spcp,spc.iloc[i]))\n",
    "spc_dists = pd.DataFrame(data=dist,index=spc.index,columns=['dist'])\n",
    "spc_dists = spc_dists.sort_values(by=['dist'],axis = 0)[2:4]\n",
    "dist = []\n",
    "for i in topc.index:\n",
    "    dist.append(mink_dis(topcp,topc.iloc[i]))\n",
    "topc_dists = pd.DataFrame(data=dist,index=topc.index,columns=['dist'])\n",
    "topc_dists = topc_dists.sort_values(by=['dist'],axis = 0)[2:4]\n",
    "sp_final = sp.loc[spc_dists.index]\n",
    "top_final = top.loc[topc_dists.index]\n",
    "print(\"songs you may like:\")\n",
    "l = []\n",
    "if(len(spp.index) < 3):\n",
    "    l.append(spp['Song Name'].head(len(spp.index)))\n",
    "else:\n",
    "    l.append(spp['Song Name'].head(3))\n",
    "if(len(topp.index ) < 3):    \n",
    "    l.append(random.sample(sorted(topp['title']),len(topp.index)))\n",
    "else:\n",
    "    l.append(random.sample(sorted(topp['title']),3))\n",
    "l.append(list(sp_final['Song Name'].values))\n",
    "l.append(list(top_final['title'].values))\n",
    "for i in l:\n",
    "    for j in i:\n",
    "        print(j)"
   ]
  },
  {
   "cell_type": "code",
   "execution_count": null,
   "id": "f23d6785",
   "metadata": {},
   "outputs": [],
   "source": []
  }
 ],
 "metadata": {
  "kernelspec": {
   "display_name": "Python 3 (ipykernel)",
   "language": "python",
   "name": "python3"
  },
  "language_info": {
   "codemirror_mode": {
    "name": "ipython",
    "version": 3
   },
   "file_extension": ".py",
   "mimetype": "text/x-python",
   "name": "python",
   "nbconvert_exporter": "python",
   "pygments_lexer": "ipython3",
   "version": "3.9.7"
  }
 },
 "nbformat": 4,
 "nbformat_minor": 5
}
